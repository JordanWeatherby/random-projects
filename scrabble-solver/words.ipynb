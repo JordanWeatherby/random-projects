{
 "cells": [
  {
   "cell_type": "code",
   "execution_count": 151,
   "metadata": {},
   "outputs": [],
   "source": [
    "f = open('dictionary.txt','r') \n",
    "words = []\n",
    "\n",
    "for line in f:\n",
    "    #Strips \\n from end of words\n",
    "    words.append(line[:-1])\n",
    "\n",
    "#Scrabble score of each letter     \n",
    "scores = {'A': 1, 'C': 3, 'B': 3, 'E': 1, 'D': 2, 'G': 2, 'F': 4, 'I': 1, 'H': 4, 'K': 5, 'J': 8, 'M': 3, 'L': 1, 'O': 1, 'N': 1, 'Q': 10, 'P': 3, 'S': 1, 'R': 1, 'U': 1, 'T': 1, 'W': 4, 'V': 4, 'Y': 4, 'X': 8, 'Z': 10}"
   ]
  },
  {
   "cell_type": "code",
   "execution_count": 156,
   "metadata": {
    "collapsed": true
   },
   "outputs": [],
   "source": [
    "def search(num, letters, strictNum = True):\n",
    "    \"\"\"\n",
    "    Return a list of words that are of length num and comprised of letters in the list letters\n",
    "    Optional argument to return words smaller than num\n",
    "    \"\"\"\n",
    "    letters = [l.upper() for l in letters]\n",
    "    answers = []\n",
    "    for word in words:\n",
    "        count = 0;\n",
    "        \n",
    "        #Only looking for num length words, skip any others unless not strictNum\n",
    "\n",
    "        if len(word) != num and strictNum:\n",
    "            continue\n",
    "            \n",
    "        for l in letters:\n",
    "            \n",
    "            if l in word:\n",
    "                count += 1\n",
    "                \n",
    "        if count == len(word):\n",
    "            #Verify that the resulting word is actually made up of letters given\n",
    "            for letter in word:\n",
    "                valid = True\n",
    "                if letter not in letters: \n",
    "                    valid = False\n",
    "                    break\n",
    "            if valid:\n",
    "                answers.append(word)\n",
    "               \n",
    "    if(len(answers) == 0):\n",
    "        return \"No word exists :(\"\n",
    "    else:\n",
    "        return answers\n",
    " "
   ]
  },
  {
   "cell_type": "code",
   "execution_count": 157,
   "metadata": {},
   "outputs": [],
   "source": [
    "def scrabble(letters, bonus7 = True):\n",
    "    \"\"\" \n",
    "    Return the highest scoring scrabble word and its score given a list of letters.\n",
    "    Optional argument to award a bonus 50 points when a 7 letter word is played  \n",
    "    \"\"\"\n",
    "    letters = [l.upper() for l in letters]\n",
    "    answers = []\n",
    "    for word in words:\n",
    "        count = 0;\n",
    "        \n",
    "        #Scrabble words are maximum 7 letters\n",
    "        if len(word) > 7:\n",
    "            continue\n",
    "            \n",
    "        for l in letters:\n",
    "            \n",
    "            if l in word:\n",
    "                count += 1\n",
    "                \n",
    "        if count == len(word):\n",
    "            #Verify that the resulting word is actually made up of letters given\n",
    "            for letter in word:\n",
    "                valid = True\n",
    "                if letter not in letters: \n",
    "                    valid = False\n",
    "                    break\n",
    "            if valid:\n",
    "                answers.append(word)\n",
    "            \n",
    "    if(len(answers) == 0):\n",
    "        return \"No word exists :(\"\n",
    "    \n",
    "    highScore = 0\n",
    "    for word in answers:\n",
    "        total = 0\n",
    "        for l in word:\n",
    "            #Add scrabble score from dictionary\n",
    "            total += scores[l] \n",
    "        if (len(word) == 7 and bonus7):\n",
    "            total += 50\n",
    "        if total > highScore:\n",
    "            highScore = total\n",
    "            highScoreWord = word\n",
    "    return \"%s is the highest scoring word with a score of %d\" % (highScoreWord, highScore)"
   ]
  },
  {
   "cell_type": "code",
   "execution_count": 158,
   "metadata": {
    "scrolled": false
   },
   "outputs": [
    {
     "name": "stdout",
     "output_type": "stream",
     "text": [
      "['CEE', 'CHECK', 'CHEEK', 'CHIC', 'CHICK', 'CHICKEN', 'CINCH', 'ECHE', 'ECHINI', 'EH', 'EN', 'HE', 'HEN', 'HENCE', 'HI', 'HICKIE', 'HIE', 'HIKE', 'HIN', 'IN', 'INK', 'KECK', 'KEN', 'KHI', 'KI', 'KICK', 'KIN', 'KINE', 'NE', 'NIECE']\n",
      "CHICKEN is the highest scoring word with a score of 68\n",
      "CHICKEN is the highest scoring word with a score of 18\n"
     ]
    }
   ],
   "source": [
    "print(search(7, ['k', 'n', 'i', 'c', 'c', 'e', 'h'], strictNum = False))\n",
    "print(scrabble( ['k', 'n', 'i', 'c', 'c', 'e', 'h']))\n",
    "print(scrabble( ['k', 'n', 'i', 'c', 'c', 'e', 'h'], bonus7 = False))"
   ]
  }
 ],
 "metadata": {
  "kernelspec": {
   "display_name": "Python 3",
   "language": "python",
   "name": "python3"
  },
  "language_info": {
   "codemirror_mode": {
    "name": "ipython",
    "version": 3
   },
   "file_extension": ".py",
   "mimetype": "text/x-python",
   "name": "python",
   "nbconvert_exporter": "python",
   "pygments_lexer": "ipython3",
   "version": "3.6.2"
  }
 },
 "nbformat": 4,
 "nbformat_minor": 2
}
