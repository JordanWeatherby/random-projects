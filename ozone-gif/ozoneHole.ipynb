{
 "cells": [
  {
   "cell_type": "code",
   "execution_count": 1,
   "metadata": {
    "collapsed": true
   },
   "outputs": [],
   "source": [
    "import imageio\n",
    "import numpy as np\n",
    "from itertools import chain\n",
    "\n",
    "images = []\n",
    "filenames = []\n",
    "for i in range(12):\n",
    "    filenames.append([])\n",
    "    for j in range(4):\n",
    "        if(i < 10):\n",
    "            filenames[i].append(\"http://www.cpc.ncep.noaa.gov/products/stratosphere/sbuv2to/archive/monthly_anom/sbuv_sh_anom_0%d0%d.gif\" % (j, i))\n",
    "            filenames[i].append(\"http://www.cpc.ncep.noaa.gov/products/stratosphere/sbuv2to/archive/monthly_anom/sbuv_sh_anom_0%d0%d.png\" % (j, i))\n",
    "        else:\n",
    "            filenames[i].append(\"http://www.cpc.ncep.noaa.gov/products/stratosphere/sbuv2to/archive/monthly_anom/sbuv_sh_anom_0%d%d.png\" % (j, i))\n",
    "            filenames[i].append(\"http://www.cpc.ncep.noaa.gov/products/stratosphere/sbuv2to/archive/monthly_anom/sbuv_sh_anom_0%d%d.gif\" % (j, i))\n",
    "filenames = list(chain.from_iterable(filenames))\n",
    "#print(filenames)"
   ]
  },
  {
   "cell_type": "code",
   "execution_count": 2,
   "metadata": {
    "collapsed": true
   },
   "outputs": [],
   "source": [
    "for filename in filenames:\n",
    "    try:\n",
    "        images.append(imageio.imread(filename))\n",
    "    except:\n",
    "        pass\n",
    "imageio.mimsave('movie.gif', images, duration=0.5)"
   ]
  },
  {
   "cell_type": "code",
   "execution_count": null,
   "metadata": {
    "collapsed": true
   },
   "outputs": [],
   "source": []
  }
 ],
 "metadata": {
  "kernelspec": {
   "display_name": "Python 3",
   "language": "python",
   "name": "python3"
  },
  "language_info": {
   "codemirror_mode": {
    "name": "ipython",
    "version": 3
   },
   "file_extension": ".py",
   "mimetype": "text/x-python",
   "name": "python",
   "nbconvert_exporter": "python",
   "pygments_lexer": "ipython3",
   "version": "3.6.2"
  }
 },
 "nbformat": 4,
 "nbformat_minor": 2
}
